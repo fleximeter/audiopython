{
 "cells": [
  {
   "attachments": {},
   "cell_type": "markdown",
   "metadata": {},
   "source": [
    "# Using Audiopython for File Conversion\n",
    "Audiopython has built-in tools for reading and writing WAV and AIFF files. For WAV files, it can read 16-bit, 24-bit, and 32-bit fixed (int) format, as well as 32-bit float and 64-bit float formats. For AIFF, it can read 16-bit, 24-bit, and 32-bit fixed (int) formats. The advantage of the audiopython functionality is that it reads more than just the sample rate and individual samples from an audio file. It also extracts the bit depth and other header information. The data is stored in a generic `AudioFile` object which works for both WAV and AIFF formats. You can write an `AudioFile` object back to file, using your choice of WAV or AIFF, and before writing it, you can convert the bit depth if you wish."
   ]
  },
  {
   "cell_type": "code",
   "execution_count": 1,
   "metadata": {},
   "outputs": [],
   "source": [
    "import audiopython.audiofile\n",
    "import numpy as np"
   ]
  },
  {
   "attachments": {},
   "cell_type": "markdown",
   "metadata": {},
   "source": [
    "We will begin by reading in a WAV file."
   ]
  },
  {
   "cell_type": "code",
   "execution_count": 2,
   "metadata": {},
   "outputs": [],
   "source": [
    "yamaha_map = audiopython.audiofile.load_yamaha()\n",
    "a = audiopython.audiofile.read_wav(yamaha_map[54][0])"
   ]
  },
  {
   "attachments": {},
   "cell_type": "markdown",
   "metadata": {},
   "source": [
    "Now we can print interesting information about the file:"
   ]
  },
  {
   "cell_type": "code",
   "execution_count": 3,
   "metadata": {},
   "outputs": [
    {
     "name": "stdout",
     "output_type": "stream",
     "text": [
      "File: D:\\Recording\\Samples\\pianobook\\YamahaC7\\YamahaC7\\Samples\\F#3_T1A.wav\n",
      "Bit depth: 24\n",
      "Sample rate: 48000\n"
     ]
    }
   ],
   "source": [
    "print(f\"File: {a.file_name}\")\n",
    "print(f\"Bit depth: {a.bits_per_sample}\")\n",
    "print(f\"Sample rate: {a.sample_rate}\")"
   ]
  },
  {
   "attachments": {},
   "cell_type": "markdown",
   "metadata": {},
   "source": [
    "What if we wanted to write it back to disk, this time as an AIFF file?"
   ]
  },
  {
   "cell_type": "code",
   "execution_count": 3,
   "metadata": {},
   "outputs": [],
   "source": [
    "audiopython.audiofile.write_aiff(a, \"D:\\\\temp.aiff\")"
   ]
  }
 ],
 "metadata": {
  "kernelspec": {
   "display_name": "python_general",
   "language": "python",
   "name": "python3"
  },
  "language_info": {
   "codemirror_mode": {
    "name": "ipython",
    "version": 3
   },
   "file_extension": ".py",
   "mimetype": "text/x-python",
   "name": "python",
   "nbconvert_exporter": "python",
   "pygments_lexer": "ipython3",
   "version": "3.11.3"
  },
  "orig_nbformat": 4
 },
 "nbformat": 4,
 "nbformat_minor": 2
}
